{
 "cells": [
  {
   "cell_type": "code",
   "execution_count": 30,
   "metadata": {},
   "outputs": [],
   "source": [
    "import numpy as np"
   ]
  },
  {
   "cell_type": "code",
   "execution_count": 31,
   "metadata": {},
   "outputs": [],
   "source": [
    "def f(x, u):\n",
    "    return 3*u/(2*x) + 3/2 * (x*u**(1/3))\n",
    "u0 = 1/10\n",
    "n=10\n",
    "a=1\n",
    "b=2"
   ]
  },
  {
   "cell_type": "code",
   "execution_count": 32,
   "metadata": {},
   "outputs": [
    {
     "name": "stdout",
     "output_type": "stream",
     "text": [
      "Метод Эйлера\n",
      "u(1.00) = 0.10000000\n",
      "u(1.10) = 0.18462383\n",
      "u(1.20) = 0.30375336\n",
      "u(1.30) = 0.46272090\n",
      "u(1.40) = 0.66693712\n",
      "u(1.50) = 0.92187137\n",
      "u(1.60) = 1.23303927\n",
      "u(1.70) = 1.60599423\n",
      "u(1.80) = 2.04632140\n",
      "u(1.90) = 2.55963311\n",
      "u(2.00) = 3.15156530\n"
     ]
    }
   ],
   "source": [
    "def euler(a, b, n, f, y0):\n",
    "    h = (b - a) / n\n",
    "    x = [a + h*i for i in range(n+1)]\n",
    "    y = [y0]\n",
    "    for i in range(n):\n",
    "        y.append(y[i] + h*f(x[i], y[i]))\n",
    "    return x, y\n",
    "\n",
    "sol_eu = euler(a, b, n, f, u0)\n",
    "print('Метод Эйлера')\n",
    "for x, y in zip(sol_eu[0], sol_eu[1]):\n",
    "    print(f'u({x:.2f}) = {y:.8f}')"
   ]
  },
  {
   "cell_type": "code",
   "execution_count": 33,
   "metadata": {},
   "outputs": [
    {
     "name": "stdout",
     "output_type": "stream",
     "text": [
      "Метод Рунге-Кутта\n",
      "u(1.00) = 0.10000000\n",
      "u(1.10) = 0.19757116\n",
      "u(1.20) = 0.33554255\n",
      "u(1.30) = 0.51949524\n",
      "u(1.40) = 0.75512874\n",
      "u(1.50) = 1.04820558\n",
      "u(1.60) = 1.40452663\n",
      "u(1.70) = 1.82991849\n",
      "u(1.80) = 2.33022633\n",
      "u(1.90) = 2.91130945\n",
      "u(2.00) = 3.57903843\n"
     ]
    }
   ],
   "source": [
    "def runge_cutta(a, b, n, f, y0):\n",
    "    h = (b - a) / n\n",
    "    x = [a + h*i for i in range(n+1)]\n",
    "    y = [y0]\n",
    "    for j in range(n):\n",
    "        y.append(y[j] + h*( 1/3 * f(x[j], y[j]) + 2/3 * f(x[j] + 3/4*h, y[j] + h/2  * f(x[j], y[j]))))\n",
    "\n",
    "    return x, y\n",
    "                 \n",
    "sol_rc = runge_cutta(a, b, n, f, u0)\n",
    "print('Метод Рунге-Кутта')\n",
    "for x, y in zip(sol_rc[0], sol_rc[1]):\n",
    "    print(f'u({x:.2f}) = {y:.8f}')"
   ]
  },
  {
   "cell_type": "code",
   "execution_count": 34,
   "metadata": {},
   "outputs": [
    {
     "name": "stdout",
     "output_type": "stream",
     "text": [
      "Метод Адамса\n",
      "u(1.00) = 0.10000000\n",
      "u(1.10) = 0.20425959\n",
      "u(1.20) = 0.35182950\n",
      "u(1.30) = 0.54830671\n",
      "u(1.40) = 0.79953731\n",
      "u(1.50) = 1.11143367\n",
      "u(1.60) = 1.48994007\n",
      "u(1.70) = 1.94101942\n",
      "u(1.80) = 2.47064605\n",
      "u(1.90) = 3.08480156\n",
      "u(2.00) = 3.78947239\n"
     ]
    }
   ],
   "source": [
    "def simple_it(f, eps, y0):\n",
    "    y1 = f(y0)\n",
    "    while abs(y1-y0) > eps:\n",
    "        y0 = y1\n",
    "        y1 = f(y0)\n",
    "    return y1\n",
    "\n",
    "\n",
    "\n",
    "def adams(a, b, n, f, y0):\n",
    "    h = (b-a)/n\n",
    "    x = [a + h*i for i in range(n+1)]\n",
    "    y = [y0]\n",
    "    # Начало таблицы\n",
    "    y_1_3 = y[0] + h/3 * f(x[0], y[0])\n",
    "    y_2_3 = y[0] + 2*h/3 * f(x[0] + 1/3 *h, y_1_3)\n",
    "    y1 = y[0] + h/4*f(x[0], y[0]) + 3*h/4*f(x[0] + 2/3 *h, y_2_3)\n",
    "    y.append(y1)\n",
    "    # Метод Адамса\n",
    "    for j in range(1, n):\n",
    "        # Реализация метода простой итерации\n",
    "        y_new = simple_it(\n",
    "            lambda y_j: y[j] + h/12 * (5 * f(x[j+1], y_j) + 8*f(x[j], y[j]) - f(x[j-1], y[j-1]))\n",
    "            , h**5, y[j]\n",
    "        )\n",
    "        # \n",
    "        y.append(y_new)\n",
    "    return x, y\n",
    "        \n",
    "sol_ad = adams(a, b, n, f, u0)\n",
    "print('Метод Адамса')\n",
    "for x, y in zip(sol_ad[0], sol_ad[1]):\n",
    "    print(f'u({x:.2f}) = {y:.8f}')\n"
   ]
  },
  {
   "cell_type": "code",
   "execution_count": 35,
   "metadata": {},
   "outputs": [
    {
     "name": "stdout",
     "output_type": "stream",
     "text": [
      "Метод последовательного повышения порядка точности\n",
      "u(1.00) = 0.10000000\n",
      "u(1.10) = 0.20255977\n",
      "u(1.20) = 0.34787642\n",
      "u(1.30) = 0.54166753\n",
      "u(1.40) = 0.78978465\n",
      "u(1.50) = 1.09814089\n",
      "u(1.60) = 1.47268153\n",
      "u(1.70) = 1.91937019\n",
      "u(1.80) = 2.44418163\n",
      "u(1.90) = 3.05309778\n",
      "u(2.00) = 3.75210530\n"
     ]
    }
   ],
   "source": [
    "def increase_accuracy(a, b, n, f, y0):\n",
    "    h = (b - a) / n\n",
    "    x = [a + h*i for i in range(n+1)]\n",
    "    y = [y0]\n",
    "    for j in range(n):\n",
    "        y_half = y[j] + h/2 * f(x[j], y[j])\n",
    "        y.append(y[j] + h * f(x[j] + 1/2*h, y_half))\n",
    "\n",
    "    return x, y\n",
    "\n",
    "sol_ia = increase_accuracy(a, b, n, f, u0)\n",
    "print('Метод последовательного повышения порядка точности')\n",
    "for x, y in zip(sol_ia[0], sol_ia[1]):\n",
    "    print(f'u({x:.2f}) = {y:.8f}')"
   ]
  },
  {
   "cell_type": "code",
   "execution_count": 36,
   "metadata": {},
   "outputs": [
    {
     "name": "stdout",
     "output_type": "stream",
     "text": [
      "Адамс - Эйлер:\n",
      "[0.         0.01963576 0.04807614 0.0855858  0.13260019 0.1895623\n",
      " 0.2569008  0.33502519 0.42432465 0.52516845 0.6379071 ]\n",
      "Адамс - Последовательное повышение точности:\n",
      "[0.         0.00169982 0.00395308 0.00663917 0.00975265 0.01329278\n",
      " 0.01725854 0.02164924 0.02646443 0.03170378 0.03736709]\n",
      "Адамс - Рунге-Кутта:\n",
      "[0.         0.00668844 0.01628694 0.02881147 0.04440857 0.0632281\n",
      " 0.08541344 0.11110093 0.14041973 0.17349211 0.21043396]\n"
     ]
    }
   ],
   "source": [
    "print('Адамс - Эйлер:')\n",
    "print(np.abs(np.array(sol_ad[1]) - np.array(sol_eu[1])))\n",
    "print('Адамс - Последовательное повышение точности:')\n",
    "print(np.abs(np.array(sol_ad[1]) - np.array(sol_ia[1])))\n",
    "print('Адамс - Рунге-Кутта:')\n",
    "print(np.abs(np.array(sol_ad[1]) - np.array(sol_rc[1])))"
   ]
  },
  {
   "cell_type": "markdown",
   "metadata": {},
   "source": [
    "Построим графики функций"
   ]
  },
  {
   "cell_type": "code",
   "execution_count": 37,
   "metadata": {},
   "outputs": [],
   "source": [
    "import matplotlib.pyplot as plt\n",
    "import seaborn as sns\n",
    "sns.set()\n",
    "plt.rcParams['figure.figsize'] = (10, 6)"
   ]
  },
  {
   "cell_type": "code",
   "execution_count": 38,
   "metadata": {},
   "outputs": [],
   "source": [
    "x = np.linspace(1, 2, 11)\n",
    "f = lambda x: ((-0.784557 + x) * x) ** (3/2)\n",
    "y = f(x)"
   ]
  },
  {
   "cell_type": "code",
   "execution_count": 39,
   "metadata": {},
   "outputs": [
    {
     "data": {
      "text/plain": [
       "<matplotlib.legend.Legend at 0x19443b17940>"
      ]
     },
     "execution_count": 39,
     "metadata": {},
     "output_type": "execute_result"
    },
    {
     "data": {
      "image/png": "[encoded data removed]",
      "text/plain": [
       "<Figure size 720x432 with 1 Axes>"
      ]
     },
     "metadata": {},
     "output_type": "display_data"
    }
   ],
   "source": [
    "sns.lineplot(x=x, y=y)\n",
    "sns.lineplot(x=sol_ad[0], y=sol_ad[1])\n",
    "sns.lineplot(x=sol_eu[0], y=sol_eu[1])\n",
    "sns.lineplot(x=sol_ia[0], y=sol_ia[1])\n",
    "sns.lineplot(x=sol_rc[0], y=sol_rc[1])\n",
    "plt.legend(labels=['Решение полученное в системе WolframAlpha', \n",
    "                  'Метод Адамса', 'Метод Эйлера',\n",
    "                  'Метод послед повышения порядка точности',\n",
    "                  'Метод Рунге-Кутта']);"
   ]
  },
  {
   "cell_type": "code",
   "execution_count": null,
   "metadata": {},
   "outputs": [],
   "source": []
  },
  {
   "cell_type": "code",
   "execution_count": null,
   "metadata": {},
   "outputs": [],
   "source": []
  }
 ],
 "metadata": {
  "kernelspec": {
   "display_name": "Python 3",
   "language": "python",
   "name": "python3"
  },
  "language_info": {
   "codemirror_mode": {
    "name": "ipython",
    "version": 3
   },
   "file_extension": ".py",
   "mimetype": "text/x-python",
   "name": "python",
   "nbconvert_exporter": "python",
   "pygments_lexer": "ipython3",
   "version": "3.8.5"
  }
 },
 "nbformat": 4,
 "nbformat_minor": 4
}
