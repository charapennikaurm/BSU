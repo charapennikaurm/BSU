{
 "cells": [
  {
   "cell_type": "markdown",
   "metadata": {},
   "source": [
    "Даны интегральый уравнения Фредгольма и Вольтеррра 2-го рода при следующих значениях их параметров.  \n",
    "\n",
    "\n",
    "| $ K(x,s) $ | $ f(x) $ | $ \\lambda $ | $ [a,b] $ |\n",
    "|------------|----------|-------------|-----------|\n",
    "| $ e^{x-s} $ | $ e^{x-2}(e-1) $ | 0.3 | $ [0,\\frac{\\pi}{2}] $ |\n",
    "\n",
    "Необходимо:  \n",
    "1. Методом механических квадратур найти приближенные решения при N=10, используя составную формулу Симпсона для ИУФ-2 и формулу правых прямоугольников для ИУВ-2.  \n",
    "2. Методом последовательных приближений при n=5, найти приближенные решения ИУФ-2 и ИУВ-2. Для вычисления интегралов применить квадратурные формулы, указаные в п.1. Оценить погрешность.  \n",
    "3. Провести сравнительный анализ решений, полученных в п.п. 1, 2 результатов. Вычислить по каждому методу решение в точке $ x^*=\\frac{a+b}{2.2} $ и объяснить разницу.  "
   ]
  },
  {
   "cell_type": "code",
   "execution_count": 126,
   "metadata": {},
   "outputs": [],
   "source": [
    "import numpy as np\n",
    "import matplotlib.pyplot as plt"
   ]
  },
  {
   "cell_type": "code",
   "execution_count": 9,
   "metadata": {},
   "outputs": [],
   "source": [
    "def get_quad_coefs(a, b, N, method):\n",
    "    h = (b-a)/N\n",
    "    coefs = []\n",
    "    \n",
    "    if method == 'r_rectangles':\n",
    "        coefs.append(0)\n",
    "        for i in range(N):\n",
    "            coefs.append(h)\n",
    "            \n",
    "    elif method == 'simpson':\n",
    "        for i in range(N+1):\n",
    "            if(i == 0) or i == N:\n",
    "                coefs.append(h/3)\n",
    "            elif i%2 == 0:\n",
    "                coefs.append(2*h/3)\n",
    "            elif i%2 == 1:\n",
    "                coefs.append(4*h/3)\n",
    "    \n",
    "    return np.array(coefs)"
   ]
  },
  {
   "cell_type": "code",
   "execution_count": 150,
   "metadata": {},
   "outputs": [],
   "source": [
    "# параметры из условия\n",
    "def K(x,s):\n",
    "    return np.exp(x-s)\n",
    "\n",
    "def K_volt(x, s):\n",
    "    return np.exp(x-s) * (s <= x)\n",
    "    \n",
    "def f(x):\n",
    "    return np.exp(x-2)*(np.exp(1) - 1)\n",
    "\n",
    "lmb = 0.1\n",
    "a = 0\n",
    "b = np.pi / 2"
   ]
  },
  {
   "cell_type": "code",
   "execution_count": 151,
   "metadata": {},
   "outputs": [],
   "source": [
    "# Метод механических квадратур\n",
    "\n",
    "def mech_quad(K, f, lmb, a, b, N, method):\n",
    "    h = (b-a)/N\n",
    "    x = np.array([a + h*i for i in range(N+1)])\n",
    "\n",
    "    coefs = get_quad_coefs(a, b, N, method)\n",
    "    \n",
    "    A = np.zeros((N+1, N+1)) # матрица системы\n",
    "    b = np.zeros((N+1, 1)) # неоднородность системы\n",
    "    for i in range(N+1):\n",
    "        b[i] = f(x[i])\n",
    "        for j in range(N+1):\n",
    "            A[i][j] = 1 - lmb* coefs[j]*K(x[i], x[i]) if i == j else -lmb*coefs[j]*K(x[i], x[j])\n",
    "    u =np.linalg.solve(A,b).flatten()\n",
    "    return x, u, coefs\n",
    "\n",
    "def get_solution_at_point(x,u,quad_coefs, lmb,K, f, x0):\n",
    "    u_0 = 0.0\n",
    "    for x_i, y_i, A_i in zip(x, u, quad_coefs):\n",
    "        u_0 += lmb * A_i * K(x0, x_i) * y_i\n",
    "    \n",
    "    u_0 += f(x0)\n",
    "    return u_0"
   ]
  },
  {
   "cell_type": "code",
   "execution_count": 153,
   "metadata": {},
   "outputs": [
    {
     "name": "stdout",
     "output_type": "stream",
     "text": [
      "ИУф-2\n",
      "u(0.00) = 0.275879\n",
      "u(0.16) = 0.322803\n",
      "u(0.31) = 0.377708\n",
      "u(0.47) = 0.441952\n",
      "u(0.63) = 0.517123\n",
      "u(0.79) = 0.605080\n",
      "u(0.94) = 0.707998\n",
      "u(1.10) = 0.828420\n",
      "u(1.26) = 0.969325\n",
      "u(1.41) = 1.134196\n",
      "u(1.57) = 1.327110\n",
      "u(a+b/2.2) = u(0.79)=0.605080\n",
      "\n",
      "ИУВ-2\n",
      "u(0.00) = 0.232544\n",
      "u(0.16) = 0.276440\n",
      "u(0.31) = 0.328621\n",
      "u(0.47) = 0.390652\n",
      "u(0.63) = 0.464392\n",
      "u(0.79) = 0.552052\n",
      "u(0.94) = 0.656258\n",
      "u(1.10) = 0.780134\n",
      "u(1.26) = 0.927394\n",
      "u(1.41) = 1.102450\n",
      "u(1.57) = 1.310551\n",
      "u(a+b/2.2) = u(0.79)=0.552052\n",
      "\n"
     ]
    }
   ],
   "source": [
    "print('ИУф-2')\n",
    "mq_solution_iuf = mech_quad(K, f, lmb, a, b, 10, 'simpson')\n",
    "for i in range(mq_solution_iuf[0].shape[0]):\n",
    "    print(f'u({mq_solution_iuf[0][i]:.2f}) = {mq_solution_iuf[1][i]:.6f}')\n",
    "\n",
    "print(f'u(a+b/2.2) = u({(a+b)/2:.2f})={get_solution_at_point(mq_solution_iuf[0], mq_solution_iuf[1], mq_solution_iuf[2], lmb, K, f, (a+b)/2):.6f}')\n",
    "print()\n",
    "print('ИУВ-2')\n",
    "mq_solution_iuv = mech_quad(K_volt, f, lmb, a, b, 10, 'r_rectangles')\n",
    "for i in range(mq_solution_iuv[0].shape[0]):\n",
    "    print(f'u({mq_solution_iuv[0][i]:.2f}) = {mq_solution_iuv[1][i]:.6f}')\n",
    "print(f'u(a+b/2.2) = u({(a+b)/2:.2f})={get_solution_at_point(mq_solution_iuv[0], mq_solution_iuv[1], mq_solution_iuv[2], lmb, K_volt, f, (a+b)/2):.6f}')\n",
    "print()"
   ]
  },
  {
   "cell_type": "code",
   "execution_count": 122,
   "metadata": {},
   "outputs": [],
   "source": [
    "def iterations_method(K, f, lmb, a, b, N_splits, N_it, method):\n",
    "    h = (b-a)/N_splits\n",
    "    x = np.array([a + h*i for i in range(N_splits+1)])\n",
    "    coefs = get_quad_coefs(a, b, N_splits, method)\n",
    "    phis = np.zeros((N_it+1, N_splits+1)) # (i, j) -- элемент y_i(x_j)\n",
    "    \n",
    "    for i in range(N_it+1):\n",
    "        for j in range(N_splits+1):\n",
    "            if i == 0:\n",
    "                phis[i][j] = f(x[j])\n",
    "            else:\n",
    "                phis[i][j] = np.sum([ coefs[k]*K(x[j], x[k])*phis[i-1][k] for k in range(N_splits + 1)])\n",
    "    \n",
    "    u = np.zeros((N_splits + 1, ))\n",
    "    for i in range(N_splits + 1):\n",
    "        for j in range(N_it + 1):\n",
    "            u[i] += lmb**j * phis[j][i]\n",
    "    return x, u, coefs"
   ]
  },
  {
   "cell_type": "code",
   "execution_count": 147,
   "metadata": {},
   "outputs": [
    {
     "name": "stdout",
     "output_type": "stream",
     "text": [
      "ИУф-2\n",
      "u(0.00) = 0.232544\n",
      "u(0.16) = 0.276440\n",
      "u(0.31) = 0.328621\n",
      "u(0.47) = 0.390652\n",
      "u(0.63) = 0.464392\n",
      "u(0.79) = 0.552052\n",
      "u(0.94) = 0.656258\n",
      "u(1.10) = 0.780134\n",
      "u(1.26) = 0.927394\n",
      "u(1.41) = 1.102450\n",
      "u(1.57) = 1.310551\n",
      "u(a+b/2.2) = u(0.79)=0.605079\n",
      "\n"
     ]
    }
   ],
   "source": [
    "print('ИУф-2')\n",
    "mpp_solution_iuf = iterations_method(K, f, lmb, a, b, 10,5 ,'simpson')\n",
    "for i in range(solution[0].shape[0]):\n",
    "    print(f'u({solution[0][i]:.2f}) = {solution[1][i]:.6f}')\n",
    "\n",
    "print(f'u(a+b/2.2) = u({(a+b)/2:.2f})={get_solution_at_point(mpp_solution_iuf[0], mpp_solution_iuf[1], mpp_solution_iuf[2], lmb, K, f, (a+b)/2):.6f}')\n",
    "print()\n"
   ]
  },
  {
   "cell_type": "code",
   "execution_count": 148,
   "metadata": {},
   "outputs": [
    {
     "name": "stdout",
     "output_type": "stream",
     "text": [
      "ИУВ-2\n",
      "u(0.00) = 0.232544\n",
      "u(0.16) = 0.276440\n",
      "u(0.31) = 0.328621\n",
      "u(0.47) = 0.390652\n",
      "u(0.63) = 0.464392\n",
      "u(0.79) = 0.552052\n",
      "u(0.94) = 0.656258\n",
      "u(1.10) = 0.780134\n",
      "u(1.26) = 0.927394\n",
      "u(1.41) = 1.102450\n",
      "u(1.57) = 1.310551\n",
      "u(a+b/2.2) = u(0.79)=0.597530\n",
      "\n"
     ]
    }
   ],
   "source": [
    "print('ИУВ-2')\n",
    "mpp_solution_iuv = iterations_method(K_volt, f, lmb, a, b, 10,5 ,'r_rectangles')\n",
    "for i in range(solution[0].shape[0]):\n",
    "    print(f'u({solution[0][i]:.2f}) = {solution[1][i]:.6f}')\n",
    "\n",
    "print(f'u(a+b/2.2) = u({(a+b)/2:.2f})={get_solution_at_point(mpp_solution_iuv[0], mpp_solution_iuv[1], mpp_solution_iuv[2], lmb, K, f, (a+b)/2):.6f}')\n",
    "print()"
   ]
  },
  {
   "cell_type": "markdown",
   "metadata": {},
   "source": [
    "Построим графики полученных функций"
   ]
  }
 ],
 "metadata": {
  "kernelspec": {
   "display_name": "Python 3",
   "language": "python",
   "name": "python3"
  },
  "language_info": {
   "codemirror_mode": {
    "name": "ipython",
    "version": 3
   },
   "file_extension": ".py",
   "mimetype": "text/x-python",
   "name": "python",
   "nbconvert_exporter": "python",
   "pygments_lexer": "ipython3",
   "version": "3.8.5"
  }
 },
 "nbformat": 4,
 "nbformat_minor": 4
}
