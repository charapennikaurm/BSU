{
 "cells": [
  {
   "cell_type": "code",
   "execution_count": 1,
   "id": "c9abfa1c",
   "metadata": {},
   "outputs": [],
   "source": [
    "import numpy as np\n",
    "from warnings import warn\n",
    "import matplotlib.pyplot as plt"
   ]
  },
  {
   "cell_type": "code",
   "execution_count": 2,
   "id": "5a96d0d0",
   "metadata": {},
   "outputs": [],
   "source": [
    "def sweep_method(\n",
    "    e: np.ndarray,\n",
    "    d: np.ndarray,\n",
    "    c: np.ndarray,\n",
    "    b: np.ndarray\n",
    ") -> np.ndarray:\n",
    "    '''\n",
    "    Метод прогонки для СЛАУ для трехдиагональных матриц, где\n",
    "    d - элементы главной диагонали\n",
    "    e - элементы над главной диагональю и последний 0\n",
    "    c - элементы под главной диагональю и первый ноль\n",
    "    b - неоднородность\n",
    "    '''\n",
    "    n = d.shape[0]\n",
    "    for i in range(n):\n",
    "        if i==0:\n",
    "            if abs(d[i]) > abs(e[i]):\n",
    "                print('Не выполнено достаточное условие сходимости метода прогонки')\n",
    "                break\n",
    "        if i==n-1:\n",
    "            if abs(d[i]) > abs(c[i]):\n",
    "                print('Не выполнено достаточное условие сходимости метода прогонки')\n",
    "                break\n",
    "        elif abs(d[i]) > abs(e[i]) + abs(c[i]):\n",
    "            print('Не выполнено достаточное условие сходимости метода прогонки')\n",
    "            break\n",
    "    else:\n",
    "        print('Достаточное условие сходимости метода прогонки выполнено')\n",
    "        \n",
    "    \n",
    "    x = np.zeros_like(d)\n",
    "    for k in range(1, n):\n",
    "        d[k] = d[k] - e[k-1]*c[k]/d[k-1]\n",
    "        b[k] = b[k] - b[k-1]*c[k]/d[k-1]\n",
    "    x[n-1] = b[n-1]/d[n-1]\n",
    "    for k in reversed(range(n-1)):\n",
    "        x[k] = (b[k] - e[k]*x[k+1])/d[k]\n",
    "    \n",
    "    return x\n",
    "    "
   ]
  },
  {
   "cell_type": "code",
   "execution_count": 3,
   "id": "f626aef9",
   "metadata": {},
   "outputs": [],
   "source": [
    "def k(x):\n",
    "    return np.sin(x) ** 2 + 1\n",
    "\n",
    "def dk(x):\n",
    "    return 2*np.sin(x)*np.cos(x)\n",
    "\n",
    "def f(x):\n",
    "    return np.exp(x)\n",
    "\n",
    "def q(x):\n",
    "    return np.cos(x)\n",
    "\n",
    "\n",
    "kappa_0 = 1\n",
    "g_0 = 1\n",
    "kappa_1 = 1\n",
    "g_1 = 1"
   ]
  },
  {
   "cell_type": "code",
   "execution_count": 4,
   "id": "6f002a5f",
   "metadata": {},
   "outputs": [],
   "source": [
    "def solve_approx(k, dk, q, f, kappa_0, g_0, kappa_1, g_1, h=0.1):\n",
    "    X = np.arange(0, 1 + h/2, h)\n",
    "    n = X.shape[0]\n",
    "    D = q(X)\n",
    "    PHI = f(X)\n",
    "    KAPPA_0 = kappa_0 * (1 - (h/2) * (dk(0)/k(0))) + h/2 * q(0)\n",
    "    G_0 = g_0 * (1 - (h/2) * (dk(0)/k(0))) + h/2 * f(0)\n",
    "    KAPPA_1 = kappa_1*(1 + (h/2) * (dk(1)/ k(1))) + h/2 * q(1)\n",
    "    G_1 = g_1*(1 + (h/2) * (dk(1)/ k(1))) + h/2 * f(1)\n",
    "    \n",
    "    # заполняем диагональные элементы\n",
    "    diag_el = np.zeros(n)\n",
    "    diag_el[0] = (-k(0)/h - KAPPA_0)\n",
    "    diag_el[-1] = (-k(1)/h - KAPPA_1)\n",
    "    for i in range(1, n-1):\n",
    "        diag_el[i] = -(2*k(X[i]))/(h**2) - D[i]\n",
    "    # заполняем элементы при y_i+1, тут нужно изменить нулевой\n",
    "    up_diag = np.zeros(n)\n",
    "    up_diag[0] = k(0)/h\n",
    "    for i in range(1, n-1):\n",
    "        up_diag[i] = k(X[i])/(h**2) + dk(X[i])/(2*h)\n",
    "    # элементы при y_i-1, тут нужно изменить последний\n",
    "    low_diag = np.zeros(n)\n",
    "    low_diag[-1] = k(1) / h\n",
    "    for i in range(1, n-1):\n",
    "        low_diag[i] = k(X[i])/(h**2) - dk(X[i])/(2*h)\n",
    "    # неоднородность уравнений\n",
    "    neodnorodnost = np.zeros(n)\n",
    "    neodnorodnost[0] = -G_0\n",
    "    neodnorodnost[-1] = -G_1\n",
    "    \n",
    "    for i in range(1, n-1):\n",
    "        neodnorodnost[i] = -PHI[i]    \n",
    "    return X, sweep_method(up_diag, diag_el, low_diag, neodnorodnost)"
   ]
  },
  {
   "cell_type": "code",
   "execution_count": 5,
   "id": "d0dca4b1",
   "metadata": {},
   "outputs": [],
   "source": [
    "def solve_balance(k, q, f, kappa_0, g_0, kappa_1, g_1, h=0.1):\n",
    "    X = np.arange(0, 1 + h/2, h)\n",
    "    n = X.shape[0]\n",
    "    A = np.array([k(x - 0.5 * h) for x in X])\n",
    "    PHI = f(X)\n",
    "    PHI[0] = f(h/4)\n",
    "    PHI[-1] = f(1 - h/4)\n",
    "    D = q(X)\n",
    "    D[0] = q(h/4)\n",
    "    D[-1] = q(1 - h/4)\n",
    "    \n",
    "    \n",
    "    # заполняем диагональные элементы\n",
    "    diag_el = np.zeros(n)\n",
    "    diag_el[0] = -A[1]/h - (kappa_0 + h/2 * D[0])\n",
    "    diag_el[-1] = -A[-1]/h - (kappa_1 + h/2 * D[-1])\n",
    "    for i in range(1, n-1):\n",
    "        diag_el[i] = -(A[i] + A[i+1])/(h**2) - D[i]\n",
    "        \n",
    "    # заполняем элементы при y_i+1, тут нужно изменить нулевой\n",
    "    up_diag = np.zeros(n)\n",
    "    up_diag[0] = A[1]/h\n",
    "    for i in range(1, n-1):\n",
    "        up_diag[i] = A[i+1]/(h**2)\n",
    "    # элементы при y_i-1, тут нужно изменить последний\n",
    "    low_diag = np.zeros(n)\n",
    "    low_diag[-1] = A[-1]/h\n",
    "    for i in range(1, n-1):\n",
    "        low_diag[i] = A[i]/(h**2)\n",
    "    # неоднородность уравнений\n",
    "    neodnorodnost = np.zeros(n)\n",
    "    neodnorodnost[0] = -g_0 - h * PHI[0]/2\n",
    "    neodnorodnost[-1] = -g_1 - h*PHI[-1]/2\n",
    "    \n",
    "    for i in range(1, n - 1):\n",
    "        neodnorodnost[i] = -PHI[i]    \n",
    "    return X, sweep_method(up_diag, diag_el, low_diag, neodnorodnost)"
   ]
  },
  {
   "cell_type": "code",
   "execution_count": 6,
   "id": "12b24dab",
   "metadata": {},
   "outputs": [],
   "source": [
    "def solve_ritz(k, q, f, kappa_0, g_0, kappa_1, g_1, h=0.1):\n",
    "    X = np.arange(0, 1 + h/2, h)\n",
    "    n = X.shape[0]\n",
    "    A = np.array([(k(x) + k(x-h))/2 for x in X])\n",
    "    PHI = f(X)\n",
    "    PHI[0] = f(0)\n",
    "    PHI[-1] = f(1) \n",
    "    D = q(X)\n",
    "    D[0] = q(0)\n",
    "    D[-1] = q(1)\n",
    "    \n",
    "    \n",
    "    # заполняем диагональные элементы\n",
    "    diag_el = np.zeros(n)\n",
    "    diag_el[0] = -A[1]/h - (kappa_0 + h/2 * D[0])\n",
    "    diag_el[-1] = -A[-1]/h - (kappa_1 + h/2 * D[-1])\n",
    "    for i in range(1, n-1):\n",
    "        diag_el[i] = -(A[i] + A[i+1])/(h**2) - D[i]\n",
    "        \n",
    "    # заполняем элементы при y_i+1, тут нужно изменить нулевой\n",
    "    up_diag = np.zeros(n)\n",
    "    up_diag[0] = A[1]/h\n",
    "    for i in range(1, n-1):\n",
    "        up_diag[i] = A[i+1]/(h**2)\n",
    "    # элементы при y_i-1, тут нужно изменить последний\n",
    "    low_diag = np.zeros(n)\n",
    "    low_diag[-1] = A[-1]/h\n",
    "    for i in range(1, n-1):\n",
    "        low_diag[i] = A[i]/(h**2)\n",
    "    # неоднородность уравнений\n",
    "    neodnorodnost = np.zeros(n)\n",
    "    neodnorodnost[0] = -g_0 - h * PHI[0]/2\n",
    "    neodnorodnost[-1] = -g_1 - h*PHI[-1]/2\n",
    "    \n",
    "    for i in range(1, n - 1):\n",
    "        neodnorodnost[i] = -PHI[i]    \n",
    "    return X, sweep_method(up_diag, diag_el, low_diag, neodnorodnost)"
   ]
  },
  {
   "cell_type": "markdown",
   "id": "ad18d7a0",
   "metadata": {},
   "source": [
    "## Аппроксимация"
   ]
  },
  {
   "cell_type": "code",
   "execution_count": 7,
   "id": "4e7764e8",
   "metadata": {},
   "outputs": [
    {
     "name": "stdout",
     "output_type": "stream",
     "text": [
      "Не выполнено достаточное условие сходимости метода прогонки\n",
      "Не выполнено достаточное условие сходимости метода прогонки\n",
      "Не выполнено достаточное условие сходимости метода прогонки\n"
     ]
    },
    {
     "data": {
      "image/png": "[encoded data removed]",
      "text/plain": [
       "<Figure size 432x288 with 1 Axes>"
      ]
     },
     "metadata": {
      "needs_background": "light"
     },
     "output_type": "display_data"
    }
   ],
   "source": [
    "plt.plot(*solve_approx(\n",
    "    k, dk, q, f, kappa_0, g_0, kappa_1, g_1, h=0.1\n",
    "), color='blue', label='h=0.1')\n",
    "plt.plot(*solve_approx(\n",
    "    k, dk, q, f, kappa_0, g_0, kappa_1, g_1, h=0.05\n",
    "), color='red', label='h=0.05')\n",
    "plt.plot(*solve_approx(\n",
    "    k, dk, q, f, kappa_0, g_0, kappa_1, g_1, h=0.0001\n",
    "), color='green', label='h=0.0001')\n",
    "plt.legend()\n",
    "plt.title('Аппроксимация при разных h');"
   ]
  },
  {
   "cell_type": "markdown",
   "id": "b777bc17",
   "metadata": {},
   "source": [
    "## Метод Баланса"
   ]
  },
  {
   "cell_type": "code",
   "execution_count": 8,
   "id": "ff94f33e",
   "metadata": {},
   "outputs": [
    {
     "name": "stdout",
     "output_type": "stream",
     "text": [
      "Не выполнено достаточное условие сходимости метода прогонки\n",
      "Не выполнено достаточное условие сходимости метода прогонки\n",
      "Не выполнено достаточное условие сходимости метода прогонки\n"
     ]
    },
    {
     "data": {
      "image/png": "[encoded data removed]",
      "text/plain": [
       "<Figure size 432x288 with 1 Axes>"
      ]
     },
     "metadata": {
      "needs_background": "light"
     },
     "output_type": "display_data"
    }
   ],
   "source": [
    "plt.plot(*solve_balance(\n",
    "    k, q, f, kappa_0, g_0, kappa_1, g_1, h=0.1\n",
    "), color='blue', label='h=0.1')\n",
    "plt.plot(*solve_balance(\n",
    "    k, q, f, kappa_0, g_0, kappa_1, g_1, h=0.05\n",
    "), color='red', label='h=0.05')\n",
    "plt.plot(*solve_balance(\n",
    "    k, q, f, kappa_0, g_0, kappa_1, g_1, h=0.0001\n",
    "), color='green', label='h=0.0001')\n",
    "plt.legend()\n",
    "plt.title('Интегро-интерполяционный метод при разных h');"
   ]
  },
  {
   "cell_type": "markdown",
   "id": "589b12a9",
   "metadata": {},
   "source": [
    "### Вариационно-разностный метод"
   ]
  },
  {
   "cell_type": "code",
   "execution_count": 9,
   "id": "934b4438",
   "metadata": {},
   "outputs": [
    {
     "name": "stdout",
     "output_type": "stream",
     "text": [
      "Не выполнено достаточное условие сходимости метода прогонки\n",
      "Не выполнено достаточное условие сходимости метода прогонки\n",
      "Не выполнено достаточное условие сходимости метода прогонки\n"
     ]
    },
    {
     "data": {
      "image/png": "[encoded data removed]",
      "text/plain": [
       "<Figure size 432x288 with 1 Axes>"
      ]
     },
     "metadata": {
      "needs_background": "light"
     },
     "output_type": "display_data"
    }
   ],
   "source": [
    "plt.plot(*solve_ritz(\n",
    "    k, q, f, kappa_0, g_0, kappa_1, g_1, h=0.1\n",
    "), color='blue', label='h=0.1')\n",
    "plt.plot(*solve_ritz(\n",
    "    k, q, f, kappa_0, g_0, kappa_1, g_1, h=0.05\n",
    "), color='red', label='h=0.05')\n",
    "plt.plot(*solve_ritz(\n",
    "    k, q, f, kappa_0, g_0, kappa_1, g_1, h=0.0001\n",
    "), color='green', label='h=0.0001')\n",
    "plt.legend()\n",
    "plt.title('Вариационно-разностный метод при разных h');"
   ]
  },
  {
   "cell_type": "markdown",
   "id": "27345b46",
   "metadata": {},
   "source": [
    "### Сравнение решений разными методами "
   ]
  },
  {
   "cell_type": "code",
   "execution_count": 10,
   "id": "fe3b6a61",
   "metadata": {},
   "outputs": [
    {
     "name": "stdout",
     "output_type": "stream",
     "text": [
      "Не выполнено достаточное условие сходимости метода прогонки\n",
      "Не выполнено достаточное условие сходимости метода прогонки\n",
      "Не выполнено достаточное условие сходимости метода прогонки\n"
     ]
    },
    {
     "data": {
      "image/png": "[encoded data removed]",
      "text/plain": [
       "<Figure size 432x288 with 1 Axes>"
      ]
     },
     "metadata": {
      "needs_background": "light"
     },
     "output_type": "display_data"
    }
   ],
   "source": [
    "plt.scatter(*solve_balance(\n",
    "    k, q, f, kappa_0, g_0, kappa_1, g_1, h=0.1\n",
    "), color='b', label='Интегро-интерполяционный метод', marker='o')\n",
    "plt.scatter(*solve_approx(\n",
    "    k, dk, q, f, kappa_0, g_0, kappa_1, g_1, h=0.1\n",
    "), color='red', label='Аппроксимация (пункт 1)', marker='s')\n",
    "plt.scatter(*solve_ritz(\n",
    "    k, q, f, kappa_0, g_0, kappa_1, g_1, h=0.1\n",
    "), color='g', label='Вариационно-разностный метод', marker='v')\n",
    "plt.legend();\n",
    "plt.title('Методы при шаге h = 0.1');"
   ]
  },
  {
   "cell_type": "code",
   "execution_count": 11,
   "id": "dd9dda36",
   "metadata": {},
   "outputs": [
    {
     "name": "stdout",
     "output_type": "stream",
     "text": [
      "Не выполнено достаточное условие сходимости метода прогонки\n",
      "Не выполнено достаточное условие сходимости метода прогонки\n",
      "Не выполнено достаточное условие сходимости метода прогонки\n"
     ]
    },
    {
     "data": {
      "image/png": "[encoded data removed]",
      "text/plain": [
       "<Figure size 432x288 with 1 Axes>"
      ]
     },
     "metadata": {
      "needs_background": "light"
     },
     "output_type": "display_data"
    }
   ],
   "source": [
    "plt.scatter(*solve_balance(\n",
    "    k, q, f, kappa_0, g_0, kappa_1, g_1, h=0.05\n",
    "), color='b', label='Интегро-интерполяционный метод')\n",
    "plt.scatter(*solve_approx(\n",
    "    k, dk, q, f, kappa_0, g_0, kappa_1, g_1, h=0.05\n",
    "), color='red', label='Аппроксимация (пункт 1)', marker='s')\n",
    "plt.scatter(*solve_ritz(\n",
    "    k, q, f, kappa_0, g_0, kappa_1, g_1, h=0.05\n",
    "), color='g', label='Вариационно-разностный метод', marker='v')\n",
    "plt.legend()\n",
    "plt.title('Методы при шаге h = 0.05');"
   ]
  },
  {
   "cell_type": "code",
   "execution_count": 12,
   "id": "4ad40250",
   "metadata": {},
   "outputs": [],
   "source": [
    "np.set_printoptions(precision=6)"
   ]
  },
  {
   "cell_type": "code",
   "execution_count": 13,
   "id": "6f2e47c0",
   "metadata": {},
   "outputs": [
    {
     "name": "stdout",
     "output_type": "stream",
     "text": [
      "Пункт 1:\n",
      "Не выполнено достаточное условие сходимости метода прогонки\n",
      "[1.23793  1.262913 1.288894 1.314314 1.337602 1.357296 1.37209  1.380822\n",
      " 1.382427 1.375861 1.360028]\n",
      "Интегро-интерполяционный метод:\n",
      "Не выполнено достаточное условие сходимости метода прогонки\n",
      "[1.238222 1.263044 1.288868 1.314139 1.337291 1.356862 1.371544 1.380175\n",
      " 1.381684 1.375025 1.359096]\n",
      "Вариационно-разностный метод:\n",
      "Не выполнено достаточное условие сходимости метода прогонки\n",
      "[1.238736 1.263679 1.289627 1.315031 1.338326 1.358051 1.372897 1.381696\n",
      " 1.383374 1.376879 1.361106]\n"
     ]
    }
   ],
   "source": [
    "print('Пункт 1:')\n",
    "_, ap_sol = solve_approx(\n",
    "    k, dk, q, f, kappa_0, g_0, kappa_1, g_1, h=0.1\n",
    ")\n",
    "print(ap_sol)\n",
    "print('Интегро-интерполяционный метод:')\n",
    "_, bal_sol = solve_balance(\n",
    "    k, q, f, kappa_0, g_0, kappa_1, g_1, h=0.1\n",
    ")\n",
    "print(bal_sol)\n",
    "print('Вариационно-разностный метод:')\n",
    "_, ritz_sol = solve_ritz(\n",
    "    k, q, f, kappa_0, g_0, kappa_1, g_1, h=0.1\n",
    ")\n",
    "print(ritz_sol)"
   ]
  },
  {
   "cell_type": "code",
   "execution_count": 14,
   "id": "9fba0e64",
   "metadata": {},
   "outputs": [
    {
     "name": "stdout",
     "output_type": "stream",
     "text": [
      "Не выполнено достаточное условие сходимости метода прогонки\n"
     ]
    }
   ],
   "source": [
    "x, exact_sol = solve_balance(\n",
    "    k, q, f, kappa_0, g_0, kappa_1, g_1, h=10e-6\n",
    ")"
   ]
  },
  {
   "cell_type": "code",
   "execution_count": 15,
   "id": "9f7c5568",
   "metadata": {},
   "outputs": [],
   "source": [
    "ex_sol = exact_sol[::10000]"
   ]
  },
  {
   "cell_type": "code",
   "execution_count": 16,
   "id": "b742699e",
   "metadata": {},
   "outputs": [
    {
     "name": "stdout",
     "output_type": "stream",
     "text": [
      "Пункт 1:\n",
      "[6.838363e-04 5.361468e-04 3.769961e-04 2.167814e-04 6.278630e-05\n",
      " 8.231678e-05 2.200277e-04 3.546434e-04 4.919054e-04 6.381117e-04\n",
      " 7.997179e-04]\n",
      "Интегро-интерполяционный метод:\n",
      "[0.000392 0.000405 0.000403 0.000391 0.000374 0.000352 0.000326 0.000293\n",
      " 0.000251 0.000199 0.000132]\n",
      "Вариационно-разностный метод:\n",
      "[0.000122 0.00023  0.000357 0.000501 0.000661 0.000837 0.001027 0.001228\n",
      " 0.001439 0.001656 0.001878]\n"
     ]
    }
   ],
   "source": [
    "print('Пункт 1:')\n",
    "print(abs(ap_sol - ex_sol))\n",
    "print('Интегро-интерполяционный метод:')\n",
    "print(abs(bal_sol - ex_sol))\n",
    "print('Вариационно-разностный метод:')\n",
    "print(abs(ritz_sol - ex_sol))"
   ]
  },
  {
   "cell_type": "code",
   "execution_count": 17,
   "id": "ce7055d9",
   "metadata": {},
   "outputs": [
    {
     "name": "stdout",
     "output_type": "stream",
     "text": [
      "Не выполнено достаточное условие сходимости метода прогонки\n",
      "Не выполнено достаточное условие сходимости метода прогонки\n",
      "Не выполнено достаточное условие сходимости метода прогонки\n"
     ]
    },
    {
     "data": {
      "image/png": "[encoded data removed]",
      "text/plain": [
       "<Figure size 432x288 with 1 Axes>"
      ]
     },
     "metadata": {
      "needs_background": "light"
     },
     "output_type": "display_data"
    }
   ],
   "source": [
    "plt.scatter(*solve_approx(\n",
    "    k, dk, q, f, kappa_0, g_0, kappa_1, g_1, h=0.1\n",
    "), color='red', label='Аппроксимация (пункт 1)', marker='s')\n",
    "plt.scatter(*solve_balance(\n",
    "    k, q, f, kappa_0, g_0, kappa_1, g_1, h=0.1\n",
    "), color='b', label='Интегро-интерполяционный метод', marker='o')\n",
    "plt.scatter(*solve_ritz(\n",
    "    k, q, f, kappa_0, g_0, kappa_1, g_1, h=0.1\n",
    "), color='g', label='Вариационно-разностный метод', marker='v')\n",
    "plt.plot(x, exact_sol, label = 'Точное решение', color='pink')\n",
    "plt.legend();\n",
    "plt.title('Методы при шаге h = 0.1');"
   ]
  },
  {
   "cell_type": "markdown",
   "id": "786a3999",
   "metadata": {},
   "source": [
    "### Поведение при уменьшении шага"
   ]
  },
  {
   "cell_type": "code",
   "execution_count": 18,
   "id": "23118774",
   "metadata": {},
   "outputs": [
    {
     "name": "stdout",
     "output_type": "stream",
     "text": [
      "Не выполнено достаточное условие сходимости метода прогонки\n"
     ]
    }
   ],
   "source": [
    "x, exact_sol = solve_balance(\n",
    "    k, q, f, kappa_0, g_0, kappa_1, g_1, h=10e-6\n",
    ")"
   ]
  },
  {
   "cell_type": "code",
   "execution_count": 19,
   "id": "e7494228",
   "metadata": {},
   "outputs": [],
   "source": [
    "ex_sol = exact_sol[::1000]"
   ]
  },
  {
   "cell_type": "code",
   "execution_count": 20,
   "id": "45d06e96",
   "metadata": {},
   "outputs": [
    {
     "name": "stdout",
     "output_type": "stream",
     "text": [
      "Пункт 1:\n",
      "Не выполнено достаточное условие сходимости метода прогонки\n",
      "[1.238607 1.241005 1.243426 1.245868 1.24833  1.25081  1.253308 1.255822\n",
      " 1.25835  1.260891 1.263444 1.266006 1.268577 1.271156 1.273739 1.276327\n",
      " 1.278916 1.281507 1.284096 1.286684 1.289267 1.291844 1.294415 1.296976\n",
      " 1.299528 1.302067 1.304593 1.307103 1.309597 1.312073 1.314528 1.316963\n",
      " 1.319374 1.321762 1.324123 1.326457 1.328762 1.331037 1.33328  1.335489\n",
      " 1.337665 1.339804 1.341906 1.343969 1.345992 1.347973 1.349912 1.351807\n",
      " 1.353657 1.35546  1.357215 1.358921 1.360577 1.362181 1.363733 1.365231\n",
      " 1.366674 1.36806  1.36939  1.370661 1.371872 1.373023 1.374112 1.375138\n",
      " 1.3761   1.376997 1.377828 1.378593 1.379288 1.379915 1.380471 1.380956\n",
      " 1.381369 1.381708 1.381973 1.382162 1.382275 1.38231  1.382267 1.382144\n",
      " 1.38194  1.381655 1.381287 1.380834 1.380297 1.379674 1.378964 1.378165\n",
      " 1.377278 1.376299 1.375229 1.374067 1.37281  1.371459 1.370011 1.368466\n",
      " 1.366823 1.365079 1.363234 1.361287 1.359237]\n",
      "Интегро-интерполяционный метод:\n",
      "Не выполнено достаточное условие сходимости метода прогонки\n",
      "[1.23861  1.241008 1.243428 1.24587  1.248332 1.250812 1.25331  1.255823\n",
      " 1.258351 1.260892 1.263445 1.266007 1.268578 1.271156 1.27374  1.276327\n",
      " 1.278916 1.281507 1.284096 1.286683 1.289266 1.291844 1.294414 1.296975\n",
      " 1.299527 1.302066 1.304591 1.307102 1.309595 1.312071 1.314526 1.316961\n",
      " 1.319372 1.321759 1.32412  1.326454 1.328759 1.331034 1.333276 1.335486\n",
      " 1.337661 1.3398   1.341902 1.343965 1.345988 1.347969 1.349908 1.351803\n",
      " 1.353652 1.355455 1.35721  1.358916 1.360572 1.362176 1.363728 1.365226\n",
      " 1.366668 1.368055 1.369384 1.370655 1.371866 1.373017 1.374106 1.375132\n",
      " 1.376094 1.376991 1.377822 1.378586 1.379282 1.379908 1.380465 1.380949\n",
      " 1.381362 1.381701 1.381966 1.382155 1.382268 1.382303 1.38226  1.382136\n",
      " 1.381933 1.381647 1.381279 1.380826 1.380289 1.379666 1.378956 1.378157\n",
      " 1.377269 1.376291 1.375221 1.374058 1.372802 1.37145  1.370002 1.368457\n",
      " 1.366813 1.36507  1.363225 1.361278 1.359227]\n",
      "Вариационно-разностный метод:\n",
      "Не выполнено достаточное условие сходимости метода прогонки\n",
      "[1.238615 1.241013 1.243434 1.245876 1.248338 1.250818 1.253316 1.25583\n",
      " 1.258358 1.260899 1.263451 1.266014 1.268585 1.271163 1.273747 1.276334\n",
      " 1.278924 1.281514 1.284104 1.286691 1.289274 1.291852 1.294422 1.296984\n",
      " 1.299535 1.302074 1.3046   1.30711  1.309604 1.31208  1.314536 1.31697\n",
      " 1.319382 1.321769 1.32413  1.326464 1.328769 1.331044 1.333287 1.335497\n",
      " 1.337672 1.339811 1.341913 1.343976 1.345999 1.347981 1.34992  1.351815\n",
      " 1.353664 1.355467 1.357222 1.358929 1.360584 1.362189 1.363741 1.365239\n",
      " 1.366681 1.368068 1.369398 1.370669 1.37188  1.373031 1.37412  1.375146\n",
      " 1.376108 1.377006 1.377837 1.378601 1.379297 1.379924 1.38048  1.380965\n",
      " 1.381378 1.381717 1.381982 1.382172 1.382284 1.38232  1.382276 1.382153\n",
      " 1.38195  1.381664 1.381296 1.380844 1.380307 1.379684 1.378974 1.378175\n",
      " 1.377288 1.376309 1.37524  1.374077 1.372821 1.371469 1.370022 1.368477\n",
      " 1.366833 1.36509  1.363245 1.361298 1.359247]\n"
     ]
    }
   ],
   "source": [
    "print('Пункт 1:')\n",
    "_, ap_sol = solve_approx(\n",
    "    k, dk, q, f, kappa_0, g_0, kappa_1, g_1, h=0.01\n",
    ")\n",
    "print(ap_sol)\n",
    "print('Интегро-интерполяционный метод:')\n",
    "_, bal_sol = solve_balance(\n",
    "    k, q, f, kappa_0, g_0, kappa_1, g_1, h=0.01\n",
    ")\n",
    "print(bal_sol)\n",
    "print('Вариационно-разностный метод:')\n",
    "_, ritz_sol = solve_ritz(\n",
    "    k, q, f, kappa_0, g_0, kappa_1, g_1, h=0.01\n",
    ")\n",
    "print(ritz_sol)"
   ]
  },
  {
   "cell_type": "code",
   "execution_count": 21,
   "id": "1b961eaf",
   "metadata": {},
   "outputs": [
    {
     "name": "stdout",
     "output_type": "stream",
     "text": [
      "Пункт 1:\n",
      "[6.835085e-06 6.695927e-06 6.554685e-06 6.411462e-06 6.266333e-06\n",
      " 6.119409e-06 5.970791e-06 5.820585e-06 5.668898e-06 5.515845e-06\n",
      " 5.361530e-06 5.206065e-06 5.049563e-06 4.892130e-06 4.733880e-06\n",
      " 4.574927e-06 4.415381e-06 4.255351e-06 4.094934e-06 3.934235e-06\n",
      " 3.773330e-06 3.612317e-06 3.451300e-06 3.290360e-06 3.129595e-06\n",
      " 2.969090e-06 2.808923e-06 2.649164e-06 2.489873e-06 2.331116e-06\n",
      " 2.172949e-06 2.015427e-06 1.858600e-06 1.702510e-06 1.547188e-06\n",
      " 1.392668e-06 1.238998e-06 1.086184e-06 9.342405e-07 7.831973e-07\n",
      " 6.330670e-07 4.838567e-07 3.355554e-07 1.881678e-07 4.167654e-08\n",
      " 1.039255e-07 2.486575e-07 3.925336e-07 5.355818e-07 6.778264e-07\n",
      " 8.192967e-07 9.600193e-07 1.100017e-06 1.239329e-06 1.377999e-06\n",
      " 1.516079e-06 1.653611e-06 1.790639e-06 1.927203e-06 2.063352e-06\n",
      " 2.199137e-06 2.334613e-06 2.469840e-06 2.604858e-06 2.739729e-06\n",
      " 2.874506e-06 3.009258e-06 3.144034e-06 3.278885e-06 3.413878e-06\n",
      " 3.549081e-06 3.684548e-06 3.820340e-06 3.956510e-06 4.093124e-06\n",
      " 4.230256e-06 4.367963e-06 4.506310e-06 4.645362e-06 4.785169e-06\n",
      " 4.925816e-06 5.067366e-06 5.209880e-06 5.353406e-06 5.498018e-06\n",
      " 5.643780e-06 5.790758e-06 5.939008e-06 6.088591e-06 6.239581e-06\n",
      " 6.392036e-06 6.546027e-06 6.701620e-06 6.858890e-06 7.017899e-06\n",
      " 7.178702e-06 7.341367e-06 7.505961e-06 7.672544e-06 7.841194e-06\n",
      " 8.011974e-06]\n",
      "Интегро-интерполяционный метод:\n",
      "[4.186902e-06 4.206425e-06 4.224141e-06 4.240094e-06 4.254305e-06\n",
      " 4.266822e-06 4.277691e-06 4.286954e-06 4.294661e-06 4.300865e-06\n",
      " 4.305609e-06 4.308946e-06 4.310928e-06 4.311603e-06 4.311025e-06\n",
      " 4.309251e-06 4.306335e-06 4.302328e-06 4.297275e-06 4.291229e-06\n",
      " 4.284213e-06 4.276277e-06 4.267478e-06 4.257850e-06 4.247450e-06\n",
      " 4.236321e-06 4.224502e-06 4.212027e-06 4.198922e-06 4.185221e-06\n",
      " 4.170952e-06 4.156142e-06 4.140818e-06 4.125001e-06 4.108701e-06\n",
      " 4.091937e-06 4.074743e-06 4.057115e-06 4.039056e-06 4.020591e-06\n",
      " 4.001728e-06 3.982473e-06 3.962815e-06 3.942762e-06 3.922301e-06\n",
      " 3.901432e-06 3.880146e-06 3.858440e-06 3.836298e-06 3.813711e-06\n",
      " 3.790667e-06 3.767157e-06 3.743180e-06 3.718715e-06 3.693744e-06\n",
      " 3.668240e-06 3.642185e-06 3.615562e-06 3.588359e-06 3.560558e-06\n",
      " 3.532138e-06 3.503073e-06 3.473338e-06 3.442924e-06 3.411803e-06\n",
      " 3.379958e-06 3.347354e-06 3.313978e-06 3.279816e-06 3.244837e-06\n",
      " 3.209012e-06 3.172322e-06 3.134747e-06 3.096272e-06 3.056869e-06\n",
      " 3.016502e-06 2.975156e-06 2.932805e-06 2.889422e-06 2.844999e-06\n",
      " 2.799489e-06 2.752872e-06 2.705125e-06 2.656242e-06 2.606188e-06\n",
      " 2.554940e-06 2.502473e-06 2.448771e-06 2.393813e-06 2.337567e-06\n",
      " 2.280015e-06 2.221126e-06 2.160875e-06 2.099227e-06 2.036161e-06\n",
      " 1.971663e-06 1.905704e-06 1.838259e-06 1.769307e-06 1.698811e-06\n",
      " 1.626748e-06]\n",
      "Вариационно-разностный метод:\n",
      "[1.214326e-06 1.314486e-06 1.416442e-06 1.520192e-06 1.625762e-06\n",
      " 1.733152e-06 1.842365e-06 1.953405e-06 2.066273e-06 2.180965e-06\n",
      " 2.297488e-06 2.415838e-06 2.536012e-06 2.658011e-06 2.781830e-06\n",
      " 2.907456e-06 3.034885e-06 3.164107e-06 3.295123e-06 3.427922e-06\n",
      " 3.562520e-06 3.698906e-06 3.837059e-06 3.976979e-06 4.118642e-06\n",
      " 4.262035e-06 4.407147e-06 4.553968e-06 4.702494e-06 4.852713e-06\n",
      " 5.004613e-06 5.158183e-06 5.313407e-06 5.470275e-06 5.628782e-06\n",
      " 5.788914e-06 5.950639e-06 6.113961e-06 6.278871e-06 6.445340e-06\n",
      " 6.613350e-06 6.782885e-06 6.953942e-06 7.126497e-06 7.300546e-06\n",
      " 7.476068e-06 7.653050e-06 7.831472e-06 8.011323e-06 8.192583e-06\n",
      " 8.375235e-06 8.559257e-06 8.744618e-06 8.931301e-06 9.119292e-06\n",
      " 9.308579e-06 9.499141e-06 9.690955e-06 9.883994e-06 1.007823e-05\n",
      " 1.027365e-05 1.047023e-05 1.066795e-05 1.086677e-05 1.106669e-05\n",
      " 1.126766e-05 1.146968e-05 1.167271e-05 1.187672e-05 1.208169e-05\n",
      " 1.228761e-05 1.249444e-05 1.270215e-05 1.291071e-05 1.312011e-05\n",
      " 1.333032e-05 1.354132e-05 1.375307e-05 1.396557e-05 1.417876e-05\n",
      " 1.439265e-05 1.460721e-05 1.482241e-05 1.503821e-05 1.525460e-05\n",
      " 1.547155e-05 1.568904e-05 1.590704e-05 1.612553e-05 1.634448e-05\n",
      " 1.656387e-05 1.678370e-05 1.700392e-05 1.722454e-05 1.744553e-05\n",
      " 1.766686e-05 1.788852e-05 1.811048e-05 1.833273e-05 1.855525e-05\n",
      " 1.877803e-05]\n"
     ]
    }
   ],
   "source": [
    "print('Пункт 1:')\n",
    "print(abs(ap_sol - ex_sol))\n",
    "print('Интегро-интерполяционный метод:')\n",
    "print(abs(bal_sol - ex_sol))\n",
    "print('Вариационно-разностный метод:')\n",
    "print(abs(ritz_sol - ex_sol))"
   ]
  },
  {
   "cell_type": "code",
   "execution_count": 22,
   "id": "e4c371ce",
   "metadata": {},
   "outputs": [
    {
     "name": "stdout",
     "output_type": "stream",
     "text": [
      "Не выполнено достаточное условие сходимости метода прогонки\n",
      "Не выполнено достаточное условие сходимости метода прогонки\n",
      "Не выполнено достаточное условие сходимости метода прогонки\n"
     ]
    },
    {
     "data": {
      "image/png": "[encoded data removed]",
      "text/plain": [
       "<Figure size 432x288 with 1 Axes>"
      ]
     },
     "metadata": {
      "needs_background": "light"
     },
     "output_type": "display_data"
    }
   ],
   "source": [
    "plt.scatter(*solve_approx(\n",
    "    k, dk, q, f, kappa_0, g_0, kappa_1, g_1, h=0.01\n",
    "), color='red', label='Аппроксимация (пункт 1)', marker='s')\n",
    "plt.scatter(*solve_balance(\n",
    "    k, q, f, kappa_0, g_0, kappa_1, g_1, h=0.01\n",
    "), color='b', label='Интегро-интерполяционный метод', marker='o')\n",
    "plt.scatter(*solve_ritz(\n",
    "    k, q, f, kappa_0, g_0, kappa_1, g_1, h=0.01\n",
    "), color='g', label='Вариационно-разностный метод', marker='v')\n",
    "plt.plot(x, exact_sol, label = 'Точное решение', color='pink')\n",
    "plt.legend();\n",
    "plt.title('Методы при шаге h = 0.01');"
   ]
  },
  {
   "cell_type": "code",
   "execution_count": null,
   "id": "e08f0f4f",
   "metadata": {},
   "outputs": [],
   "source": []
  }
 ],
 "metadata": {
  "kernelspec": {
   "display_name": "Python 3 (ipykernel)",
   "language": "python",
   "name": "python3"
  },
  "language_info": {
   "codemirror_mode": {
    "name": "ipython",
    "version": 3
   },
   "file_extension": ".py",
   "mimetype": "text/x-python",
   "name": "python",
   "nbconvert_exporter": "python",
   "pygments_lexer": "ipython3",
   "version": "3.9.7"
  }
 },
 "nbformat": 4,
 "nbformat_minor": 5
}
